{
 "cells": [
  {
   "cell_type": "markdown",
   "metadata": {},
   "source": [
    "# Introduction to ForneyLab\n",
    "\n",
    "ForneyLab is a toolbox for deriving solutions to probabilistic inference problems by message passing on Forney-style factor graphs. A Forney-style factor graph (FFG) is a graphical representation of a factorized probabilistic model. Message passing solutions to inference tasks can be automatically derived from a probabilistic model specification. ForneyLab yields message passing algorithms (MPA) as Julia code. In other words, ForneyLab is a Julia program that automatically builds inference programs that are specified as Julia programs.\n",
    "\n",
    "These demos assume that the user is familiar with the FFG formalism. We recommend the following introductions: \n",
    "\n",
    "1. H.-A. Loeliger, J. Dauwels, J. Hu, S. Korl, Li Ping, and F. Kschischang,\n",
    "[The factor graph approach to model-based signal processing](https://people.ee.ethz.ch/~papers/docu/aloe-jdau-juhu-skor-2007-1.pdf), Proceedings of the IEEE, vol. 95, no. 6, pp. 1295-1322, June 2007. \n",
    "2. Korl, Sascha, [A factor graph approach to signal modelling, system identification and filtering](https://www.research-collection.ethz.ch/handle/20.500.11850/82737), Series in signal and information processing\n",
    "Doctoral Thesis, 2005\n",
    "\n",
    "We designed ForneyLab to be practical, while retaining maximal flexibility. The inherent modularity of the FFG framework allowed us to make ForneyLab extensible at all levels (nodes, update rules, algorithms, inference engines). Although we had performance in mind while developing ForneyLab, optimally efficient execution of the resulting inference programs (specified in Julia as message passing sequence) may still require custom work.  \n",
    "\n",
    "The ForneyLab approach to solving inference problems consists of three phases:\n",
    "\n",
    "1. **Model specification**. ForneyLab provides a simple meta-language to specifiy models.\n",
    "2. **Message Passing Agorithm (MPA) Generation**. This task is automatically performed by ForneyLab.\n",
    "3. **MPA Execution**. This is simply evaluating a Julia program.\n",
    "\n",
    "Each of the demos will step through these phases in turn, showcasing the most important ForneyLab functionalities. Although the demos each stand on their own, a recommended order would be\n",
    "\n",
    "1. `introduction`\n",
    "2. `state_estimation_forward_only`\n",
    "3. `state_estimation_forward_backward`\n",
    "4. `bayes_rule_2d`\n",
    "5. `kalman_smoother_2d`\n",
    "6. `variational_estimation_iid_gaussian`\n",
    "7. `variational_estimation_gaussian_mixture`\n",
    "8. `expectation_propagation`\n",
    "9. `expectation_maximization`\n",
    "10. `composite_nodes`\n",
    "11. `structured_variational_estimation`\n",
    "12. `hidden_markov_model_estimation`\n",
    "\n",
    "# Factor Graphs and Variables\n",
    "\n",
    "A central concept in ForneyLab is the (random) `Variable` type. After including ForneyLab and indicating that we start a new `FactorGraph`, we can declare a `Variable` by calling its constructor function: "
   ]
  },
  {
   "cell_type": "code",
   "execution_count": 1,
   "metadata": {},
   "outputs": [
    {
     "data": {
      "text/plain": [
       "Dict{Symbol,Variable} with 1 entry:\n",
       "  :x => Variable(:x, Edges:…"
      ]
     },
     "execution_count": 1,
     "metadata": {},
     "output_type": "execute_result"
    }
   ],
   "source": [
    "using ForneyLab\n",
    "\n",
    "# Declare a new graph\n",
    "g = FactorGraph()\n",
    "\n",
    "# Declare a variable\n",
    "x = Variable(id=:x)\n",
    "\n",
    "g.variables"
   ]
  },
  {
   "cell_type": "markdown",
   "metadata": {},
   "source": [
    "The call to `FactorGraph()` creates a factor graph type and registers the graph as the currently active graph. Note that the variable has been associated with an edge in the currently active graph. \n",
    "\n",
    "ForneyLab comes equipped with the `@RV` macro to define random variables. For instance, defining a new variable `y` with identifier `:y` and associating the variable to the current graph can also be accomplished by executing `@RV y`:"
   ]
  },
  {
   "cell_type": "code",
   "execution_count": 2,
   "metadata": {},
   "outputs": [
    {
     "data": {
      "text/plain": [
       "Dict{Symbol,Variable} with 2 entries:\n",
       "  :y => Variable(:y, Edges:…\n",
       "  :x => Variable(:x, Edges:…"
      ]
     },
     "execution_count": 2,
     "metadata": {},
     "output_type": "execute_result"
    }
   ],
   "source": [
    "@RV y\n",
    "\n",
    "g.variables"
   ]
  },
  {
   "cell_type": "markdown",
   "metadata": {},
   "source": [
    "We can assign a probability distribution to a random variable by the `~` operator:"
   ]
  },
  {
   "cell_type": "code",
   "execution_count": 3,
   "metadata": {
    "scrolled": true
   },
   "outputs": [
    {
     "data": {
      "text/plain": [
       "Dict{Symbol,Variable} with 5 entries:\n",
       "  :clamp_2 => Variable(:clamp_2, Edges:…\n",
       "  :y       => Variable(:y, Edges:…\n",
       "  :clamp_1 => Variable(:clamp_1, Edges:…\n",
       "  :z       => Variable(:z, Edges:…\n",
       "  :x       => Variable(:x, Edges:…"
      ]
     },
     "execution_count": 3,
     "metadata": {},
     "output_type": "execute_result"
    }
   ],
   "source": [
    "@RV z ~ GaussianMeanVariance(0.0, 1.0)\n",
    "g.variables"
   ]
  },
  {
   "cell_type": "markdown",
   "metadata": {},
   "source": [
    "Note that the graph now also includes two variables with id `:clamp_1` and `:clamp_2`. These two variables correspond to the mean and variance parameters for the Gaussian and are clamped to values `0.0` and `1.0` respectively.\n",
    "\n",
    "If you have [graphviz](https://www.graphviz.org/) installed, then you can draw the factor graph. (Edges (variables) that are not constrained by any factor are not drawn):"
   ]
  },
  {
   "cell_type": "code",
   "execution_count": 4,
   "metadata": {},
   "outputs": [
    {
     "data": {
      "text/html": [
       "<?xml version=\"1.0\" encoding=\"UTF-8\" standalone=\"no\"?>\n",
       "<!DOCTYPE svg PUBLIC \"-//W3C//DTD SVG 1.1//EN\"\n",
       " \"http://www.w3.org/Graphics/SVG/1.1/DTD/svg11.dtd\">\n",
       "<!-- Generated by graphviz version 2.40.1 (20161225.0304)\n",
       " -->\n",
       "<!-- Title: G Pages: 1 -->\n",
       "<svg width=\"231pt\" height=\"276pt\"\n",
       " viewBox=\"0.00 0.00 231.00 276.00\" xmlns=\"http://www.w3.org/2000/svg\" xmlns:xlink=\"http://www.w3.org/1999/xlink\">\n",
       "<g id=\"graph0\" class=\"graph\" transform=\"scale(1 1) rotate(0) translate(4 272)\">\n",
       "<title>G</title>\n",
       "<polygon fill=\"#ffffff\" stroke=\"transparent\" points=\"-4,4 -4,-272 227,-272 227,4 -4,4\"/>\n",
       "<!-- 15389663577352898669 -->\n",
       "<g id=\"node1\" class=\"node\">\n",
       "<title>15389663577352898669</title>\n",
       "<polygon fill=\"#d3d3d3\" stroke=\"#000000\" points=\"54,-54 0,-54 0,0 54,0 54,-54\"/>\n",
       "<text text-anchor=\"middle\" x=\"27\" y=\"-24.3\" font-family=\"Times,serif\" font-size=\"9.00\" fill=\"#000000\">clamp_2</text>\n",
       "</g>\n",
       "<!-- 14954638161636342006 -->\n",
       "<g id=\"node2\" class=\"node\">\n",
       "<title>14954638161636342006</title>\n",
       "<polygon fill=\"#d3d3d3\" stroke=\"#000000\" points=\"223,-54 169,-54 169,0 223,0 223,-54\"/>\n",
       "<text text-anchor=\"middle\" x=\"196\" y=\"-24.3\" font-family=\"Times,serif\" font-size=\"9.00\" fill=\"#000000\">clamp_1</text>\n",
       "</g>\n",
       "<!-- 14627229374973708145 -->\n",
       "<g id=\"node3\" class=\"node\">\n",
       "<title>14627229374973708145</title>\n",
       "<polygon fill=\"none\" stroke=\"#000000\" points=\"163.9605,-170 58.0395,-170 58.0395,-98 163.9605,-98 163.9605,-170\"/>\n",
       "<text text-anchor=\"middle\" x=\"111\" y=\"-136.43\" font-family=\"Times,serif\" font-size=\"9.00\" fill=\"#000000\">𝒩</text>\n",
       "<text text-anchor=\"middle\" x=\"111\" y=\"-126.17\" font-family=\"Times,serif\" font-size=\"9.00\" fill=\"#000000\">gaussianmeanvariance_1</text>\n",
       "</g>\n",
       "<!-- 14627229374973708145&#45;&#45;15389663577352898669 -->\n",
       "<g id=\"edge1\" class=\"edge\">\n",
       "<title>14627229374973708145&#45;&#45;15389663577352898669</title>\n",
       "<path fill=\"none\" stroke=\"#000000\" d=\"M58.0235,-111.9657C45.0737,-103.9039 32.8305,-93.3811 25.4531,-80 21.1865,-72.2611 20.3373,-62.8733 20.9426,-54.1615\"/>\n",
       "<text text-anchor=\"start\" x=\"26\" y=\"-73.6\" font-family=\"Times,serif\" font-size=\"8.00\" fill=\"#ff0000\">clamp_2</text>\n",
       "<text text-anchor=\"start\" x=\"2.7199\" y=\"-55.7615\" font-family=\"Times,serif\" font-size=\"8.00\" fill=\"#000000\">1 out </text>\n",
       "<text text-anchor=\"start\" x=\"46.0235\" y=\"-113.5657\" font-family=\"Times,serif\" font-size=\"8.00\" fill=\"#000000\">3 v </text>\n",
       "</g>\n",
       "<!-- 14627229374973708145&#45;&#45;14954638161636342006 -->\n",
       "<g id=\"edge2\" class=\"edge\">\n",
       "<title>14627229374973708145&#45;&#45;14954638161636342006</title>\n",
       "<path fill=\"none\" stroke=\"#000000\" d=\"M139.7771,-97.7747C151.1435,-83.4665 163.9767,-67.3116 174.5097,-54.0525\"/>\n",
       "<text text-anchor=\"start\" x=\"159\" y=\"-73.6\" font-family=\"Times,serif\" font-size=\"8.00\" fill=\"#ff0000\">clamp_1</text>\n",
       "<text text-anchor=\"start\" x=\"156.2871\" y=\"-55.6525\" font-family=\"Times,serif\" font-size=\"8.00\" fill=\"#000000\">1 out </text>\n",
       "<text text-anchor=\"start\" x=\"125.5545\" y=\"-91.3747\" font-family=\"Times,serif\" font-size=\"8.00\" fill=\"#000000\">2 m </text>\n",
       "</g>\n",
       "<!-- 168979039517750042712 -->\n",
       "<g id=\"node4\" class=\"node\">\n",
       "<title>168979039517750042712</title>\n",
       "</g>\n",
       "<!-- 168979039517750042712&#45;&#45;14627229374973708145 -->\n",
       "<g id=\"edge3\" class=\"edge\">\n",
       "<title>168979039517750042712&#45;&#45;14627229374973708145</title>\n",
       "<path fill=\"none\" stroke=\"#000000\" d=\"M111,-213.9994C111,-200.7507 111,-184.6013 111,-170.2906\"/>\n",
       "<text text-anchor=\"start\" x=\"111\" y=\"-189.6\" font-family=\"Times,serif\" font-size=\"8.00\" fill=\"#ff0000\">z</text>\n",
       "<text text-anchor=\"start\" x=\"92.7773\" y=\"-171.8906\" font-family=\"Times,serif\" font-size=\"8.00\" fill=\"#000000\">1 out </text>\n",
       "</g>\n",
       "</g>\n",
       "</svg>\n"
      ]
     },
     "metadata": {},
     "output_type": "display_data"
    }
   ],
   "source": [
    "ForneyLab.draw(g) # draw the graph"
   ]
  },
  {
   "cell_type": "markdown",
   "metadata": {},
   "source": [
    "In case you don't like the automatically generated id's `:clamp_1` and `:clamp_2`, you could have declared the parameters of the Gaussian distribution through the `@RV` macro and associated a `Clamp` distribution with these variables:"
   ]
  },
  {
   "cell_type": "code",
   "execution_count": 5,
   "metadata": {},
   "outputs": [
    {
     "data": {
      "text/plain": [
       "Dict{Symbol,Variable} with 3 entries:\n",
       "  :m => Variable(:m, Edges:…\n",
       "  :v => Variable(:v, Edges:…\n",
       "  :z => Variable(:z, Edges:…"
      ]
     },
     "execution_count": 5,
     "metadata": {},
     "output_type": "execute_result"
    }
   ],
   "source": [
    "g2 = FactorGraph()\n",
    "@RV m ~ Clamp(0.0)\n",
    "@RV v ~ Clamp(1.0)\n",
    "@RV z ~ GaussianMeanVariance(m, v)\n",
    "g2.variables"
   ]
  },
  {
   "cell_type": "code",
   "execution_count": 6,
   "metadata": {},
   "outputs": [
    {
     "data": {
      "text/html": [
       "<?xml version=\"1.0\" encoding=\"UTF-8\" standalone=\"no\"?>\n",
       "<!DOCTYPE svg PUBLIC \"-//W3C//DTD SVG 1.1//EN\"\n",
       " \"http://www.w3.org/Graphics/SVG/1.1/DTD/svg11.dtd\">\n",
       "<!-- Generated by graphviz version 2.40.1 (20161225.0304)\n",
       " -->\n",
       "<!-- Title: G Pages: 1 -->\n",
       "<svg width=\"231pt\" height=\"276pt\"\n",
       " viewBox=\"0.00 0.00 231.00 276.00\" xmlns=\"http://www.w3.org/2000/svg\" xmlns:xlink=\"http://www.w3.org/1999/xlink\">\n",
       "<g id=\"graph0\" class=\"graph\" transform=\"scale(1 1) rotate(0) translate(4 272)\">\n",
       "<title>G</title>\n",
       "<polygon fill=\"#ffffff\" stroke=\"transparent\" points=\"-4,4 -4,-272 227,-272 227,4 -4,4\"/>\n",
       "<!-- 17043341418423626473 -->\n",
       "<g id=\"node1\" class=\"node\">\n",
       "<title>17043341418423626473</title>\n",
       "<polygon fill=\"none\" stroke=\"#000000\" points=\"163.9605,-170 58.0395,-170 58.0395,-98 163.9605,-98 163.9605,-170\"/>\n",
       "<text text-anchor=\"middle\" x=\"111\" y=\"-136.43\" font-family=\"Times,serif\" font-size=\"9.00\" fill=\"#000000\">𝒩</text>\n",
       "<text text-anchor=\"middle\" x=\"111\" y=\"-126.17\" font-family=\"Times,serif\" font-size=\"9.00\" fill=\"#000000\">gaussianmeanvariance_1</text>\n",
       "</g>\n",
       "<!-- 13304806856539548325 -->\n",
       "<g id=\"node2\" class=\"node\">\n",
       "<title>13304806856539548325</title>\n",
       "<polygon fill=\"#d3d3d3\" stroke=\"#000000\" points=\"54,-54 0,-54 0,0 54,0 54,-54\"/>\n",
       "<text text-anchor=\"middle\" x=\"27\" y=\"-24.3\" font-family=\"Times,serif\" font-size=\"9.00\" fill=\"#000000\">clamp_1</text>\n",
       "</g>\n",
       "<!-- 17043341418423626473&#45;&#45;13304806856539548325 -->\n",
       "<g id=\"edge1\" class=\"edge\">\n",
       "<title>17043341418423626473&#45;&#45;13304806856539548325</title>\n",
       "<path fill=\"none\" stroke=\"#000000\" d=\"M62.2916,-97.886C56.5887,-92.3198 51.2281,-86.3087 46.7773,-80 41.3422,-72.296 37.2022,-62.9168 34.1504,-54.2023\"/>\n",
       "<text text-anchor=\"start\" x=\"47\" y=\"-73.6\" font-family=\"Times,serif\" font-size=\"8.00\" fill=\"#ff0000\">m</text>\n",
       "<text text-anchor=\"start\" x=\"15.9277\" y=\"-55.8023\" font-family=\"Times,serif\" font-size=\"8.00\" fill=\"#000000\">1 out </text>\n",
       "<text text-anchor=\"start\" x=\"48.0689\" y=\"-91.486\" font-family=\"Times,serif\" font-size=\"8.00\" fill=\"#000000\">2 m </text>\n",
       "</g>\n",
       "<!-- 1675192793425721916 -->\n",
       "<g id=\"node3\" class=\"node\">\n",
       "<title>1675192793425721916</title>\n",
       "<polygon fill=\"#d3d3d3\" stroke=\"#000000\" points=\"223,-54 169,-54 169,0 223,0 223,-54\"/>\n",
       "<text text-anchor=\"middle\" x=\"196\" y=\"-24.3\" font-family=\"Times,serif\" font-size=\"9.00\" fill=\"#000000\">clamp_2</text>\n",
       "</g>\n",
       "<!-- 17043341418423626473&#45;&#45;1675192793425721916 -->\n",
       "<g id=\"edge3\" class=\"edge\">\n",
       "<title>17043341418423626473&#45;&#45;1675192793425721916</title>\n",
       "<path fill=\"none\" stroke=\"#000000\" d=\"M139.7771,-97.7747C151.1435,-83.4665 163.9767,-67.3116 174.5097,-54.0525\"/>\n",
       "<text text-anchor=\"start\" x=\"158\" y=\"-73.6\" font-family=\"Times,serif\" font-size=\"8.00\" fill=\"#ff0000\">v</text>\n",
       "<text text-anchor=\"start\" x=\"156.2871\" y=\"-55.6525\" font-family=\"Times,serif\" font-size=\"8.00\" fill=\"#000000\">1 out </text>\n",
       "<text text-anchor=\"start\" x=\"127.7771\" y=\"-91.3747\" font-family=\"Times,serif\" font-size=\"8.00\" fill=\"#000000\">3 v </text>\n",
       "</g>\n",
       "<!-- 65605206164291320062 -->\n",
       "<g id=\"node4\" class=\"node\">\n",
       "<title>65605206164291320062</title>\n",
       "</g>\n",
       "<!-- 65605206164291320062&#45;&#45;17043341418423626473 -->\n",
       "<g id=\"edge2\" class=\"edge\">\n",
       "<title>65605206164291320062&#45;&#45;17043341418423626473</title>\n",
       "<path fill=\"none\" stroke=\"#000000\" d=\"M111,-213.9994C111,-200.7507 111,-184.6013 111,-170.2906\"/>\n",
       "<text text-anchor=\"start\" x=\"111\" y=\"-189.6\" font-family=\"Times,serif\" font-size=\"8.00\" fill=\"#ff0000\">z</text>\n",
       "<text text-anchor=\"start\" x=\"92.7773\" y=\"-171.8906\" font-family=\"Times,serif\" font-size=\"8.00\" fill=\"#000000\">1 out </text>\n",
       "</g>\n",
       "</g>\n",
       "</svg>\n"
      ]
     },
     "metadata": {},
     "output_type": "display_data"
    }
   ],
   "source": [
    "ForneyLab.draw(g2)"
   ]
  },
  {
   "cell_type": "markdown",
   "metadata": {},
   "source": [
    "The graph stores the identifier of each variable. This is useful because now we can retrieve a variable from a graph by its identifier, .e.g.,"
   ]
  },
  {
   "cell_type": "code",
   "execution_count": 7,
   "metadata": {},
   "outputs": [
    {
     "data": {
      "text/plain": [
       "Variable(:m, Edges:\n",
       "Edge belonging to variable m: ( clamp_1.i[out] )----( gaussianmeanvariance_1.i[m] ).\n",
       ")"
      ]
     },
     "execution_count": 7,
     "metadata": {},
     "output_type": "execute_result"
    }
   ],
   "source": [
    "g2.variables[:m]"
   ]
  },
  {
   "cell_type": "markdown",
   "metadata": {},
   "source": [
    "Let's build another simple factor graph for \n",
    "$$\\begin{align*}\n",
    "p(x,y,z) &= p(z|x,y)\\,p(x)\\,p(y) \\\\\n",
    "  &= \\delta(z-x-y)\\,\\mathcal{N}(x\\,|\\,0.0,1.0)\\,\\mathcal{N}(y\\,|\\,2.0,3.0)\n",
    "\\end{align*}$$"
   ]
  },
  {
   "cell_type": "code",
   "execution_count": 8,
   "metadata": {},
   "outputs": [
    {
     "data": {
      "text/html": [
       "<?xml version=\"1.0\" encoding=\"UTF-8\" standalone=\"no\"?>\n",
       "<!DOCTYPE svg PUBLIC \"-//W3C//DTD SVG 1.1//EN\"\n",
       " \"http://www.w3.org/Graphics/SVG/1.1/DTD/svg11.dtd\">\n",
       "<!-- Generated by graphviz version 2.40.1 (20161225.0304)\n",
       " -->\n",
       "<!-- Title: G Pages: 1 -->\n",
       "<svg width=\"595pt\" height=\"392pt\"\n",
       " viewBox=\"0.00 0.00 595.00 392.00\" xmlns=\"http://www.w3.org/2000/svg\" xmlns:xlink=\"http://www.w3.org/1999/xlink\">\n",
       "<g id=\"graph0\" class=\"graph\" transform=\"scale(1 1) rotate(0) translate(4 388)\">\n",
       "<title>G</title>\n",
       "<polygon fill=\"#ffffff\" stroke=\"transparent\" points=\"-4,4 -4,-388 591,-388 591,4 -4,4\"/>\n",
       "<!-- 13040607786416678650 -->\n",
       "<g id=\"node1\" class=\"node\">\n",
       "<title>13040607786416678650</title>\n",
       "<polygon fill=\"none\" stroke=\"#000000\" points=\"329,-286 257,-286 257,-214 329,-214 329,-286\"/>\n",
       "<text text-anchor=\"middle\" x=\"293\" y=\"-251.8\" font-family=\"Times,serif\" font-size=\"9.00\" fill=\"#000000\">+</text>\n",
       "<text text-anchor=\"middle\" x=\"293\" y=\"-242.8\" font-family=\"Times,serif\" font-size=\"9.00\" fill=\"#000000\">addition_1</text>\n",
       "</g>\n",
       "<!-- 18292513104394290224 -->\n",
       "<g id=\"node4\" class=\"node\">\n",
       "<title>18292513104394290224</title>\n",
       "<polygon fill=\"none\" stroke=\"#000000\" points=\"235.9605,-170 130.0395,-170 130.0395,-98 235.9605,-98 235.9605,-170\"/>\n",
       "<text text-anchor=\"middle\" x=\"183\" y=\"-136.43\" font-family=\"Times,serif\" font-size=\"9.00\" fill=\"#000000\">𝒩</text>\n",
       "<text text-anchor=\"middle\" x=\"183\" y=\"-126.17\" font-family=\"Times,serif\" font-size=\"9.00\" fill=\"#000000\">gaussianmeanvariance_1</text>\n",
       "</g>\n",
       "<!-- 13040607786416678650&#45;&#45;18292513104394290224 -->\n",
       "<g id=\"edge2\" class=\"edge\">\n",
       "<title>13040607786416678650&#45;&#45;18292513104394290224</title>\n",
       "<path fill=\"none\" stroke=\"#000000\" d=\"M256.9919,-216.1759C250.2447,-209.5869 243.3275,-202.6566 237,-196 229.2308,-187.8268 221.1143,-178.7937 213.6046,-170.2098\"/>\n",
       "<text text-anchor=\"start\" x=\"237\" y=\"-189.6\" font-family=\"Times,serif\" font-size=\"8.00\" fill=\"#ff0000\">x</text>\n",
       "<text text-anchor=\"start\" x=\"195.3819\" y=\"-171.8098\" font-family=\"Times,serif\" font-size=\"8.00\" fill=\"#000000\">1 out </text>\n",
       "<text text-anchor=\"start\" x=\"238.7692\" y=\"-217.7759\" font-family=\"Times,serif\" font-size=\"8.00\" fill=\"#000000\">2 in1 </text>\n",
       "</g>\n",
       "<!-- 13138502142921434094 -->\n",
       "<g id=\"node7\" class=\"node\">\n",
       "<title>13138502142921434094</title>\n",
       "<polygon fill=\"none\" stroke=\"#000000\" points=\"456.9605,-170 351.0395,-170 351.0395,-98 456.9605,-98 456.9605,-170\"/>\n",
       "<text text-anchor=\"middle\" x=\"404\" y=\"-136.43\" font-family=\"Times,serif\" font-size=\"9.00\" fill=\"#000000\">𝒩</text>\n",
       "<text text-anchor=\"middle\" x=\"404\" y=\"-126.17\" font-family=\"Times,serif\" font-size=\"9.00\" fill=\"#000000\">gaussianmeanvariance_2</text>\n",
       "</g>\n",
       "<!-- 13040607786416678650&#45;&#45;13138502142921434094 -->\n",
       "<g id=\"edge7\" class=\"edge\">\n",
       "<title>13040607786416678650&#45;&#45;13138502142921434094</title>\n",
       "<path fill=\"none\" stroke=\"#000000\" d=\"M327.5126,-213.9327C340.8773,-199.9661 356.1461,-184.0095 369.5087,-170.045\"/>\n",
       "<text text-anchor=\"start\" x=\"352\" y=\"-189.6\" font-family=\"Times,serif\" font-size=\"8.00\" fill=\"#ff0000\">y</text>\n",
       "<text text-anchor=\"start\" x=\"351.2861\" y=\"-171.645\" font-family=\"Times,serif\" font-size=\"8.00\" fill=\"#000000\">1 out </text>\n",
       "<text text-anchor=\"start\" x=\"309.29\" y=\"-207.5327\" font-family=\"Times,serif\" font-size=\"8.00\" fill=\"#000000\">3 in2 </text>\n",
       "</g>\n",
       "<!-- 14716179968775315481 -->\n",
       "<g id=\"node2\" class=\"node\">\n",
       "<title>14716179968775315481</title>\n",
       "<polygon fill=\"#d3d3d3\" stroke=\"#000000\" points=\"54,-54 0,-54 0,0 54,0 54,-54\"/>\n",
       "<text text-anchor=\"middle\" x=\"27\" y=\"-24.3\" font-family=\"Times,serif\" font-size=\"9.00\" fill=\"#000000\">clamp_1</text>\n",
       "</g>\n",
       "<!-- 11714564486131284864 -->\n",
       "<g id=\"node3\" class=\"node\">\n",
       "<title>11714564486131284864</title>\n",
       "<polygon fill=\"#d3d3d3\" stroke=\"#000000\" points=\"223,-54 169,-54 169,0 223,0 223,-54\"/>\n",
       "<text text-anchor=\"middle\" x=\"196\" y=\"-24.3\" font-family=\"Times,serif\" font-size=\"9.00\" fill=\"#000000\">clamp_2</text>\n",
       "</g>\n",
       "<!-- 18292513104394290224&#45;&#45;14716179968775315481 -->\n",
       "<g id=\"edge4\" class=\"edge\">\n",
       "<title>18292513104394290224&#45;&#45;14716179968775315481</title>\n",
       "<path fill=\"none\" stroke=\"#000000\" d=\"M130.1855,-97.7747C104.7286,-80.3138 75.2621,-60.1029 54.3516,-45.7604\"/>\n",
       "<text text-anchor=\"start\" x=\"101\" y=\"-73.6\" font-family=\"Times,serif\" font-size=\"8.00\" fill=\"#ff0000\">clamp_1</text>\n",
       "<text text-anchor=\"start\" x=\"54.3516\" y=\"-47.3604\" font-family=\"Times,serif\" font-size=\"8.00\" fill=\"#000000\">1 out </text>\n",
       "<text text-anchor=\"start\" x=\"115.9629\" y=\"-99.3747\" font-family=\"Times,serif\" font-size=\"8.00\" fill=\"#000000\">2 m </text>\n",
       "</g>\n",
       "<!-- 18292513104394290224&#45;&#45;11714564486131284864 -->\n",
       "<g id=\"edge6\" class=\"edge\">\n",
       "<title>18292513104394290224&#45;&#45;11714564486131284864</title>\n",
       "<path fill=\"none\" stroke=\"#000000\" d=\"M187.4012,-97.7747C189.1396,-83.4665 191.1023,-67.3116 192.7133,-54.0525\"/>\n",
       "<text text-anchor=\"start\" x=\"191\" y=\"-73.6\" font-family=\"Times,serif\" font-size=\"8.00\" fill=\"#ff0000\">clamp_2</text>\n",
       "<text text-anchor=\"start\" x=\"174.4906\" y=\"-55.6525\" font-family=\"Times,serif\" font-size=\"8.00\" fill=\"#000000\">1 out </text>\n",
       "<text text-anchor=\"start\" x=\"175.4012\" y=\"-91.3747\" font-family=\"Times,serif\" font-size=\"8.00\" fill=\"#000000\">3 v </text>\n",
       "</g>\n",
       "<!-- 12484504055812667403 -->\n",
       "<g id=\"node5\" class=\"node\">\n",
       "<title>12484504055812667403</title>\n",
       "<polygon fill=\"#d3d3d3\" stroke=\"#000000\" points=\"418,-54 364,-54 364,0 418,0 418,-54\"/>\n",
       "<text text-anchor=\"middle\" x=\"391\" y=\"-24.3\" font-family=\"Times,serif\" font-size=\"9.00\" fill=\"#000000\">clamp_3</text>\n",
       "</g>\n",
       "<!-- 5085077261015466482 -->\n",
       "<g id=\"node6\" class=\"node\">\n",
       "<title>5085077261015466482</title>\n",
       "<polygon fill=\"#d3d3d3\" stroke=\"#000000\" points=\"587,-54 533,-54 533,0 587,0 587,-54\"/>\n",
       "<text text-anchor=\"middle\" x=\"560\" y=\"-24.3\" font-family=\"Times,serif\" font-size=\"9.00\" fill=\"#000000\">clamp_4</text>\n",
       "</g>\n",
       "<!-- 13138502142921434094&#45;&#45;12484504055812667403 -->\n",
       "<g id=\"edge3\" class=\"edge\">\n",
       "<title>13138502142921434094&#45;&#45;12484504055812667403</title>\n",
       "<path fill=\"none\" stroke=\"#000000\" d=\"M392.8898,-97.957C391.4628,-92.0108 390.2301,-85.8714 389.4531,-80 388.9867,-76.4752 389.392,-75.555 389.4531,-72 389.5525,-66.2162 389.7237,-60.0161 389.9168,-54.1236\"/>\n",
       "<text text-anchor=\"start\" x=\"390\" y=\"-73.6\" font-family=\"Times,serif\" font-size=\"8.00\" fill=\"#ff0000\">clamp_3</text>\n",
       "<text text-anchor=\"start\" x=\"371.6942\" y=\"-55.7236\" font-family=\"Times,serif\" font-size=\"8.00\" fill=\"#000000\">1 out </text>\n",
       "<text text-anchor=\"start\" x=\"378.6672\" y=\"-91.557\" font-family=\"Times,serif\" font-size=\"8.00\" fill=\"#000000\">2 m </text>\n",
       "</g>\n",
       "<!-- 13138502142921434094&#45;&#45;5085077261015466482 -->\n",
       "<g id=\"edge1\" class=\"edge\">\n",
       "<title>13138502142921434094&#45;&#45;5085077261015466482</title>\n",
       "<path fill=\"none\" stroke=\"#000000\" d=\"M456.8145,-97.7747C482.2714,-80.3138 511.7379,-60.1029 532.6484,-45.7604\"/>\n",
       "<text text-anchor=\"start\" x=\"492\" y=\"-73.6\" font-family=\"Times,serif\" font-size=\"8.00\" fill=\"#ff0000\">clamp_4</text>\n",
       "<text text-anchor=\"start\" x=\"514.4257\" y=\"-47.3604\" font-family=\"Times,serif\" font-size=\"8.00\" fill=\"#000000\">1 out </text>\n",
       "<text text-anchor=\"start\" x=\"444.8145\" y=\"-91.3747\" font-family=\"Times,serif\" font-size=\"8.00\" fill=\"#000000\">3 v </text>\n",
       "</g>\n",
       "<!-- 116148397262228331882 -->\n",
       "<g id=\"node8\" class=\"node\">\n",
       "<title>116148397262228331882</title>\n",
       "</g>\n",
       "<!-- 116148397262228331882&#45;&#45;13040607786416678650 -->\n",
       "<g id=\"edge5\" class=\"edge\">\n",
       "<title>116148397262228331882&#45;&#45;13040607786416678650</title>\n",
       "<path fill=\"none\" stroke=\"#000000\" d=\"M293,-329.9994C293,-316.7507 293,-300.6013 293,-286.2906\"/>\n",
       "<text text-anchor=\"start\" x=\"293\" y=\"-305.6\" font-family=\"Times,serif\" font-size=\"8.00\" fill=\"#ff0000\">z</text>\n",
       "<text text-anchor=\"start\" x=\"274.7773\" y=\"-287.8906\" font-family=\"Times,serif\" font-size=\"8.00\" fill=\"#000000\">1 out </text>\n",
       "</g>\n",
       "</g>\n",
       "</svg>\n"
      ]
     },
     "metadata": {},
     "output_type": "display_data"
    }
   ],
   "source": [
    "g3 = FactorGraph()\n",
    "@RV x ~ GaussianMeanVariance(0.0, 1.0)\n",
    "@RV y ~ GaussianMeanVariance(2.0, 3.0)\n",
    "@RV z = x + y\n",
    "ForneyLab.draw(g3)"
   ]
  },
  {
   "cell_type": "markdown",
   "metadata": {},
   "source": [
    "Next, we could be interested in inferring a property of `z`, e.g., the mean parameter for the distribution over `z`. This process can be automated by message passing in the graph. The next set of demo's will expand on the various methods for describing graphs and message passing inference methods with ForneyLab."
   ]
  },
  {
   "cell_type": "code",
   "execution_count": null,
   "metadata": {},
   "outputs": [],
   "source": []
  }
 ],
 "metadata": {
  "kernelspec": {
   "display_name": "Julia 1.2.0",
   "language": "julia",
   "name": "julia-1.2"
  },
  "language_info": {
   "file_extension": ".jl",
   "mimetype": "application/julia",
   "name": "julia",
   "version": "1.2.0"
  }
 },
 "nbformat": 4,
 "nbformat_minor": 2
}
